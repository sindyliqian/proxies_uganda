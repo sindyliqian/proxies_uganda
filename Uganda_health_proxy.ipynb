{
 "cells": [
  {
   "cell_type": "markdown",
   "metadata": {},
   "source": [
    "# Predicting Mortality Outcomes in Randomized Trials with Proxies: Preliminary Demonstration using Uganda Data"
   ]
  },
  {
   "cell_type": "markdown",
   "metadata": {},
   "source": [
    "Author: Sindy Li\n",
    "\n",
    "Last updated: 25 September, 2020"
   ]
  },
  {
   "cell_type": "markdown",
   "metadata": {},
   "source": [
    "## I. Introduction\n",
    "    \n",
    "In this project we apply the estimator developed in [Bastani (2019)](https://hamsabastani.github.io/proxies.pdf) to predict mortality outcomes in a randomized controlled trial in global health. Note that this is still work in progress, and here we present a preliminary demonstration on data from a study in Uganda. We may apply the technique to different data sets in the future.\n",
    "\n",
    "### Brief summary of Bastani (2019)\n",
    "In many predictive tasks we have limited data on the outcome we care about. This could be due to the outcome being the result of a rare event or more expensive to collect. In such cases we often rely on proxy variables, which are closely related and more abundant, to make recommendations. For example, in e-commerce, click data (proxy) are abundant and purchase data (true outcome of interest) are sparse. However, the proxy is often a biased estimate for the true outcome of interest. In practice, this bias can often be captured by a sparse function of the features. In this case, a novel two-step estimator that uses techniques from high-dimensional statistics can efficiently combine a large amount of proxy data and a small amount of true data, and provide better predictive performance than using either type of data only.\n",
    "\n",
    "### Application to global health\n",
    "A challenge in clinical trials is that we often care about mortality as an outcome of interventions. As death is a rare event, trials often require a large sample size and/or a long time period to observe suffcicient change in mortality outcomes. Alternatively we may use intermediate outcomes as proxies, which may lead to bias.\n",
    "\n",
    "Here we focus on the context of global heath which concerns low and middle-income countries (LMICs). Many children under the age of five die of preventable causes in LMICs ([WHO](https://www.who.int/gho/child_health/mortality/mortality_under_five_text/en/#:~:text=Trends,1%20in%2026%20in%202018.)), and a number of cost-effective interventions in global health focus on reducing mortality among this group (for example, see [GiveWell's top charities](https://www.givewell.org/charities/top-charities)). However, estimating the impact of these interventions on child mortality in a randomized controlled trial can be challenging due to the large sample size required to measure changes in mortality outcomes accurately. At the same time, these studies often measure intermediate outcomes that lead to the final outcome of mortality reduction, for instance, increased utilization of health facilities or adoption of health products like bed nets. Even though the intermediate outcomes can be measured with higher accuracy, using them as proxies in place of mortality outcomes may lead to biased estimates. We apply the estimator developed in Bastani (2019) to this problem. The method increases the accuracy of predicting the true outcome of interest relative to using the true outcome or proxy alone, by combining a large amount of proxy data and a small amount of true data in a two-step estimator. We demonstrate the effectiveness of this approach using data from randomized controlled trials on a community health intervention aiming at reducing child mortality in Sub-Saharan Africa.\n",
    "\n"
   ]
  },
  {
   "cell_type": "markdown",
   "metadata": {},
   "source": [
    "## II. Context\n",
    "We use the data from [Björkman Nyqvist, Walque and Svensson (2017)](https://www.aeaweb.org/articles?id=10.1257/app.20150027). They study the impact of interventions aimed at increasing local accountability in primary health care provision in Uganda using a randomized controlled trial. The interventions did this through increasing local communities' participation in monitoring the performance of health facilities.\n",
    "\n",
    "The study looks at health outcomes including child mortality rates (under-five, infant, neonatal etc.), weight-for-age z-scores and height-for-age z-scores, as well as intermediate outcomes such as utilization of health facilities, quality of care, and health knowledge among the population. It finds improvements in a number of health outcomes, including reductions in child mortality measures, though some effects are estimated imprecisely (e.g. the impact on under-five mortality rate is statistically insignificant at the 5% level in a linear regression).\n",
    "\n",
    "We will construct the combined estimator developed in Bastani (2019) to see whether we can improve the accuracy of predicting mortality outcomes by incorporating proxies.\n"
   ]
  },
  {
   "cell_type": "markdown",
   "metadata": {},
   "source": [
    "## III. Data\n",
    "The data for the study is [publicly available](https://www.openicpsr.org/openicpsr/project/113630/version/V1/view) and can also be found in the folder `AEJ_authors_files`. We have done some basic data merging and cleaning (using Stata, as the code provided by the authors were written in it). The two do files used to do these steps are `1-Uganda_organizing_data_sets.do` and `2-Uganda_merging.do`.\n",
    "\n",
    "The resulting partially cleaned data set is `Uganda_health.csv`, containing the following variables:\n",
    "- **Identifying information**: The data is at the health facility level (50 total). \"hfcode\" is the health facility code, and \"dcode\" is the district code (where the health facility is located).\n",
    "- **Treatment status**: We focus on one of the two interventions in the study, the \"information and participation\" intervention. \"treatment\" is a dummy variable that indicates whether a health clinic is in the treatment or control arm of this intervention. There are 25 treatment and 25 control facilities.\n",
    "- **Ultimate (health) outcome**: For simplicity, we focus on one of the health outcomes, the under-five mortality rate (per 1,000 child-year exposure to the program). This variable is \"u5mort_end\" (henceforth mortality). This is the \"gold\" outcome variable following the terminology in Bastani (2019).\n",
    "- **Intermediate outcome**: For simplicity, we focus on only one intermediate outcome, utilization of health facilities as reflected in the average number of patients visiting the facility per month for outpatient care, delivery, antenatal care and family planning (\"avg_visits_mo_end\", henceforth utilization; this is the sum of the four outcomes reported separately in the study). This is the proxy outcome variable following the terminology in Bastani (2019).\n",
    "- **Baseline characteristics and outcomes**: The rest of the variables were collected at the baseline (before the intervention was applied) and will be used (together with the treatment dummy variable) as features in our prediction problem. They include variables like:\n",
    "    - **Health facility characteristics**: access to piped water, radio, newspaper, electricity, education level of staff, the existence of a separate maternity unit, etc.    \n",
    "    - **Health facility catchment area characteristics**: number of households in catchment area, number of households per village, distance from the villages to the facility\n",
    "    - **Outcomes at baseline**: health facility utilization (numbers of outpatient care visits and delivery visits\n",
    "    - **Other health facility performance indicators at baseline**: availability of various types of drugs, citizen perception of service quality (whether staff was polite and attentive, and whether the patient could freely express themselves), use of equipmlent during visits, waiting time, whether patients were charged for medication or services, etc.\n",
    "\n",
    "For more details on the variables, see the Stata do file `2-Uganda_merging.do`."
   ]
  },
  {
   "cell_type": "markdown",
   "metadata": {},
   "source": [
    "## IV. Pre-Processing of Data"
   ]
  },
  {
   "cell_type": "code",
   "execution_count": 2,
   "metadata": {},
   "outputs": [
    {
     "data": {
      "text/html": [
       "<div>\n",
       "<style scoped>\n",
       "    .dataframe tbody tr th:only-of-type {\n",
       "        vertical-align: middle;\n",
       "    }\n",
       "\n",
       "    .dataframe tbody tr th {\n",
       "        vertical-align: top;\n",
       "    }\n",
       "\n",
       "    .dataframe thead th {\n",
       "        text-align: right;\n",
       "    }\n",
       "</style>\n",
       "<table border=\"1\" class=\"dataframe\">\n",
       "  <thead>\n",
       "    <tr style=\"text-align: right;\">\n",
       "      <th></th>\n",
       "      <th>dcode</th>\n",
       "      <th>hfcode</th>\n",
       "      <th>u5mort_end</th>\n",
       "      <th>avg_visits_mo_end</th>\n",
       "      <th>treatment</th>\n",
       "      <th>avg_charge_drugs</th>\n",
       "      <th>avg_charge_gentreat</th>\n",
       "      <th>avg_charge_injection</th>\n",
       "      <th>avg_charge_del</th>\n",
       "      <th>equip</th>\n",
       "      <th>...</th>\n",
       "      <th>hh_vill</th>\n",
       "      <th>newspaper</th>\n",
       "      <th>radio</th>\n",
       "      <th>dist432</th>\n",
       "      <th>distLC1</th>\n",
       "      <th>nopower04</th>\n",
       "      <th>DMU</th>\n",
       "      <th>drinksafely_2004</th>\n",
       "      <th>ws1</th>\n",
       "      <th>frac_alevel</th>\n",
       "    </tr>\n",
       "  </thead>\n",
       "  <tbody>\n",
       "    <tr>\n",
       "      <th>0</th>\n",
       "      <td>1</td>\n",
       "      <td>79</td>\n",
       "      <td>19.74983</td>\n",
       "      <td>1166.5550</td>\n",
       "      <td>0</td>\n",
       "      <td>0.000000</td>\n",
       "      <td>0.011765</td>\n",
       "      <td>0.352941</td>\n",
       "      <td>1.000000</td>\n",
       "      <td>0.452632</td>\n",
       "      <td>...</td>\n",
       "      <td>47.19048</td>\n",
       "      <td>0</td>\n",
       "      <td>0</td>\n",
       "      <td>20.5</td>\n",
       "      <td>0.5</td>\n",
       "      <td>31</td>\n",
       "      <td>1</td>\n",
       "      <td>1</td>\n",
       "      <td>0</td>\n",
       "      <td>0.285714</td>\n",
       "    </tr>\n",
       "    <tr>\n",
       "      <th>1</th>\n",
       "      <td>1</td>\n",
       "      <td>80</td>\n",
       "      <td>13.34074</td>\n",
       "      <td>697.3334</td>\n",
       "      <td>1</td>\n",
       "      <td>0.015385</td>\n",
       "      <td>0.000000</td>\n",
       "      <td>0.360000</td>\n",
       "      <td>0.714286</td>\n",
       "      <td>0.264706</td>\n",
       "      <td>...</td>\n",
       "      <td>58.07143</td>\n",
       "      <td>0</td>\n",
       "      <td>0</td>\n",
       "      <td>33.0</td>\n",
       "      <td>0.2</td>\n",
       "      <td>0</td>\n",
       "      <td>1</td>\n",
       "      <td>1</td>\n",
       "      <td>0</td>\n",
       "      <td>0.333333</td>\n",
       "    </tr>\n",
       "    <tr>\n",
       "      <th>2</th>\n",
       "      <td>1</td>\n",
       "      <td>81</td>\n",
       "      <td>23.67798</td>\n",
       "      <td>280.3333</td>\n",
       "      <td>1</td>\n",
       "      <td>0.016667</td>\n",
       "      <td>0.000000</td>\n",
       "      <td>0.400000</td>\n",
       "      <td>NaN</td>\n",
       "      <td>0.278689</td>\n",
       "      <td>...</td>\n",
       "      <td>53.37500</td>\n",
       "      <td>0</td>\n",
       "      <td>0</td>\n",
       "      <td>19.0</td>\n",
       "      <td>1.0</td>\n",
       "      <td>31</td>\n",
       "      <td>0</td>\n",
       "      <td>1</td>\n",
       "      <td>0</td>\n",
       "      <td>0.000000</td>\n",
       "    </tr>\n",
       "    <tr>\n",
       "      <th>3</th>\n",
       "      <td>1</td>\n",
       "      <td>82</td>\n",
       "      <td>13.72213</td>\n",
       "      <td>305.5555</td>\n",
       "      <td>0</td>\n",
       "      <td>0.000000</td>\n",
       "      <td>0.000000</td>\n",
       "      <td>0.357143</td>\n",
       "      <td>0.714286</td>\n",
       "      <td>0.400000</td>\n",
       "      <td>...</td>\n",
       "      <td>52.37500</td>\n",
       "      <td>0</td>\n",
       "      <td>0</td>\n",
       "      <td>3.0</td>\n",
       "      <td>2.0</td>\n",
       "      <td>31</td>\n",
       "      <td>1</td>\n",
       "      <td>0</td>\n",
       "      <td>0</td>\n",
       "      <td>0.200000</td>\n",
       "    </tr>\n",
       "    <tr>\n",
       "      <th>4</th>\n",
       "      <td>1</td>\n",
       "      <td>83</td>\n",
       "      <td>0.00000</td>\n",
       "      <td>1194.8890</td>\n",
       "      <td>1</td>\n",
       "      <td>0.000000</td>\n",
       "      <td>0.000000</td>\n",
       "      <td>0.480000</td>\n",
       "      <td>1.000000</td>\n",
       "      <td>0.204082</td>\n",
       "      <td>...</td>\n",
       "      <td>68.54546</td>\n",
       "      <td>0</td>\n",
       "      <td>0</td>\n",
       "      <td>12.0</td>\n",
       "      <td>0.4</td>\n",
       "      <td>31</td>\n",
       "      <td>1</td>\n",
       "      <td>1</td>\n",
       "      <td>0</td>\n",
       "      <td>0.750000</td>\n",
       "    </tr>\n",
       "  </tbody>\n",
       "</table>\n",
       "<p>5 rows × 41 columns</p>\n",
       "</div>"
      ],
      "text/plain": [
       "   dcode  hfcode  u5mort_end  avg_visits_mo_end  treatment  avg_charge_drugs  \\\n",
       "0      1      79    19.74983          1166.5550          0          0.000000   \n",
       "1      1      80    13.34074           697.3334          1          0.015385   \n",
       "2      1      81    23.67798           280.3333          1          0.016667   \n",
       "3      1      82    13.72213           305.5555          0          0.000000   \n",
       "4      1      83     0.00000          1194.8890          1          0.000000   \n",
       "\n",
       "   avg_charge_gentreat  avg_charge_injection  avg_charge_del     equip  ...  \\\n",
       "0             0.011765              0.352941        1.000000  0.452632  ...   \n",
       "1             0.000000              0.360000        0.714286  0.264706  ...   \n",
       "2             0.000000              0.400000             NaN  0.278689  ...   \n",
       "3             0.000000              0.357143        0.714286  0.400000  ...   \n",
       "4             0.000000              0.480000        1.000000  0.204082  ...   \n",
       "\n",
       "    hh_vill  newspaper  radio  dist432  distLC1  nopower04  DMU  \\\n",
       "0  47.19048          0      0     20.5      0.5         31    1   \n",
       "1  58.07143          0      0     33.0      0.2          0    1   \n",
       "2  53.37500          0      0     19.0      1.0         31    0   \n",
       "3  52.37500          0      0      3.0      2.0         31    1   \n",
       "4  68.54546          0      0     12.0      0.4         31    1   \n",
       "\n",
       "   drinksafely_2004  ws1  frac_alevel  \n",
       "0                 1    0     0.285714  \n",
       "1                 1    0     0.333333  \n",
       "2                 1    0     0.000000  \n",
       "3                 0    0     0.200000  \n",
       "4                 1    0     0.750000  \n",
       "\n",
       "[5 rows x 41 columns]"
      ]
     },
     "execution_count": 2,
     "metadata": {},
     "output_type": "execute_result"
    }
   ],
   "source": [
    "# Import libraries\n",
    "import numpy as np\n",
    "import pandas as pd\n",
    "import matplotlib.pyplot as plt\n",
    "plt.style.use('ggplot')\n",
    "import cvxpy as cp\n",
    "from sklearn import preprocessing\n",
    "from sklearn.linear_model import LinearRegression\n",
    "from sklearn.model_selection import train_test_split\n",
    "from sklearn import metrics\n",
    "%matplotlib inline\n",
    "\n",
    "# Import data\n",
    "df = pd.read_csv(\"Uganda_health.csv\")\n",
    "\n",
    "# Quick view\n",
    "df.head()"
   ]
  },
  {
   "cell_type": "markdown",
   "metadata": {},
   "source": [
    "### Dealing with missing data\n",
    "Now we will look at which variables have missing data."
   ]
  },
  {
   "cell_type": "code",
   "execution_count": 3,
   "metadata": {},
   "outputs": [
    {
     "name": "stdout",
     "output_type": "stream",
     "text": [
      "<class 'pandas.core.frame.DataFrame'>\n",
      "RangeIndex: 50 entries, 0 to 49\n",
      "Data columns (total 41 columns):\n",
      " #   Column                Non-Null Count  Dtype  \n",
      "---  ------                --------------  -----  \n",
      " 0   dcode                 50 non-null     int64  \n",
      " 1   hfcode                50 non-null     int64  \n",
      " 2   u5mort_end            50 non-null     float64\n",
      " 3   avg_visits_mo_end     50 non-null     float64\n",
      " 4   treatment             50 non-null     int64  \n",
      " 5   avg_charge_drugs      50 non-null     float64\n",
      " 6   avg_charge_gentreat   50 non-null     float64\n",
      " 7   avg_charge_injection  50 non-null     float64\n",
      " 8   avg_charge_del        44 non-null     float64\n",
      " 9   equip                 50 non-null     float64\n",
      " 10  wtime                 50 non-null     float64\n",
      " 11  hfx_ratio             50 non-null     float64\n",
      " 12  NGO_ratio             50 non-null     float64\n",
      " 13  PFP_ratio             50 non-null     float64\n",
      " 14  STTH_ratio            50 non-null     float64\n",
      " 15  OthGov_ratio          50 non-null     float64\n",
      " 16  Other_ratio           50 non-null     float64\n",
      " 17  polite1               50 non-null     float64\n",
      " 18  attention1            50 non-null     float64\n",
      " 19  express_free1         50 non-null     float64\n",
      " 20  avgDEL                50 non-null     float64\n",
      " 21  avgOP                 50 non-null     float64\n",
      " 22  avg_eryth             46 non-null     float64\n",
      " 23  avg_chloro            50 non-null     float64\n",
      " 24  avg_cotrim            50 non-null     float64\n",
      " 25  avg_quinine           50 non-null     float64\n",
      " 26  avg_meb               50 non-null     float64\n",
      " 27  villagen              50 non-null     int64  \n",
      " 28  village1              50 non-null     int64  \n",
      " 29  village3              50 non-null     int64  \n",
      " 30  hhs                   50 non-null     int64  \n",
      " 31  hh_vill               50 non-null     float64\n",
      " 32  newspaper             50 non-null     int64  \n",
      " 33  radio                 50 non-null     int64  \n",
      " 34  dist432               50 non-null     float64\n",
      " 35  distLC1               50 non-null     float64\n",
      " 36  nopower04             50 non-null     int64  \n",
      " 37  DMU                   50 non-null     int64  \n",
      " 38  drinksafely_2004      50 non-null     int64  \n",
      " 39  ws1                   50 non-null     int64  \n",
      " 40  frac_alevel           50 non-null     float64\n",
      "dtypes: float64(28), int64(13)\n",
      "memory usage: 16.1 KB\n"
     ]
    }
   ],
   "source": [
    "df.info()"
   ]
  },
  {
   "cell_type": "markdown",
   "metadata": {},
   "source": [
    "The variable \"avg_charge_del\" has 4 missing observations, and \"avg_eryth\" has 6.\n",
    "\n",
    "Since there are only a few missing observations, we will follow the convention in economics: creating dummy variables indicating where these variables are missing (which will be included in the regressions) and setting the missing values to 0 in the original variables."
   ]
  },
  {
   "cell_type": "code",
   "execution_count": 4,
   "metadata": {},
   "outputs": [],
   "source": [
    "avg_charge_del = df['avg_charge_del']\n",
    "df['avg_charge_del_miss'] = avg_charge_del.isnull()\n",
    "avg_eryth = df['avg_eryth']     \n",
    "df['avg_eryth_miss'] = avg_eryth.isnull()\n",
    "df.fillna(0, inplace = True)"
   ]
  },
  {
   "cell_type": "markdown",
   "metadata": {},
   "source": [
    "### Features\n",
    "We will include the treatment dummy as well as all baseline variables as regressors or features (including the two missing dummies we generated). We will standardized the design matrix to have mean of 0 and variance of 1 since it will be used in regularized regressions."
   ]
  },
  {
   "cell_type": "code",
   "execution_count": 5,
   "metadata": {},
   "outputs": [],
   "source": [
    "feature_names = list(df.loc[:, 'treatment' : 'avg_eryth_miss'].columns.values)\n",
    "features = df.loc[:, feature_names]\n",
    "# Scale features to have mean 0 variance 1 to be used in all regressions\n",
    "features_scaled = preprocessing.scale(features)"
   ]
  },
  {
   "cell_type": "markdown",
   "metadata": {},
   "source": [
    "### Outcomes\n",
    "Since the RCT found an impact of the intervention in increasing health facility utilization and decreasing under-five mortality rate, we first plot the outcomes by treatment arm."
   ]
  },
  {
   "cell_type": "code",
   "execution_count": 6,
   "metadata": {},
   "outputs": [],
   "source": [
    "# Plotting outcomes by treatment arm\n",
    "df['treat'] = df['treatment']\n",
    "df['treat'].replace({0: 'Control', 1: 'Treatment'}, inplace = True)"
   ]
  },
  {
   "cell_type": "code",
   "execution_count": 7,
   "metadata": {},
   "outputs": [
    {
     "data": {
      "image/png": "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\n",
      "text/plain": [
       "<Figure size 432x288 with 1 Axes>"
      ]
     },
     "metadata": {
      "needs_background": "light"
     },
     "output_type": "display_data"
    }
   ],
   "source": [
    "# 1) Gold: under-5 mortality rate per 1000 child-years of exposure to program\n",
    "u5mort_means = df['u5mort_end'].groupby(df['treat']).mean()\n",
    "u5mort_means.plot(kind = 'bar', rot = 0, color = '#0072B2')\n",
    "plt.xlabel('')\n",
    "plt.ylabel('Under 5 mortality per 1000 child-years')\n",
    "plt.title('Under 5 mortality rate by treatment arm')\n",
    "plt.show()"
   ]
  },
  {
   "cell_type": "code",
   "execution_count": 8,
   "metadata": {},
   "outputs": [
    {
     "data": {
      "image/png": "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\n",
      "text/plain": [
       "<Figure size 432x288 with 1 Axes>"
      ]
     },
     "metadata": {
      "needs_background": "light"
     },
     "output_type": "display_data"
    }
   ],
   "source": [
    "# 2) Proxy: average number of patients visiting the facility per month\n",
    "# for outpatient care, delivery, antenatal care and family planning\n",
    "util_means = df['avg_visits_mo_end'].groupby(df['treat']).mean()\n",
    "util_means.plot(kind = 'bar', rot = 0, color = '#0072B2')\n",
    "plt.xlabel('')\n",
    "plt.ylabel('Average monthly number of visits')\n",
    "plt.title('Health facility utilization by treatment arm')\n",
    "plt.show()"
   ]
  },
  {
   "cell_type": "markdown",
   "metadata": {},
   "source": [
    "Since the gold and proxy outcomes have very different magnitudes, we scale them such that they will have the same mean (of 1)."
   ]
  },
  {
   "cell_type": "code",
   "execution_count": 9,
   "metadata": {},
   "outputs": [],
   "source": [
    "def mean1(var):\n",
    "    '''\n",
    "    Takes a variable (column of data frame) and divides it by its mean.\n",
    "    Output: a series / column of data frame.\n",
    "    '''\n",
    "    return var.apply(lambda x: x/var.mean())\n",
    "\n",
    "df['u5mort_end_norm'] = mean1(df['u5mort_end'])\n",
    "df['avg_visits_mo_end_norm'] = mean1(df['avg_visits_mo_end'])"
   ]
  },
  {
   "cell_type": "markdown",
   "metadata": {},
   "source": [
    "### Bias term\n",
    "The estimator in Bastani (2019) provides the most improvement in predictive accuracy if the bias term, i.e. the discrepancy between the gold and proxy outcomes, is sparse in the features. We test this by running a linear regression of the features on the bias term."
   ]
  },
  {
   "cell_type": "code",
   "execution_count": 10,
   "metadata": {},
   "outputs": [],
   "source": [
    "df['bias'] = df['u5mort_end_norm'] - df['avg_visits_mo_end_norm']\n",
    "lm_bias = LinearRegression()\n",
    "lm_bias.fit(features, df['bias'])\n",
    "coefs = lm_bias.coef_.reshape(1, lm_bias.coef_.shape[0])"
   ]
  },
  {
   "cell_type": "markdown",
   "metadata": {},
   "source": [
    "Here we plot the coefficients."
   ]
  },
  {
   "cell_type": "code",
   "execution_count": 11,
   "metadata": {
    "scrolled": true
   },
   "outputs": [
    {
     "data": {
      "image/png": "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\n",
      "text/plain": [
       "<Figure size 432x288 with 1 Axes>"
      ]
     },
     "metadata": {
      "needs_background": "light"
     },
     "output_type": "display_data"
    }
   ],
   "source": [
    "lm_bias_coefs = pd.DataFrame(coefs, index = [''], columns = feature_names)\n",
    "lm_bias_coefs.plot(kind = 'bar', rot = 0)\n",
    "plt.xlabel('Variable')\n",
    "plt.ylabel('Coefficient')\n",
    "plt.title('OLS of features on bias term')\n",
    "plt.legend(loc='center left', bbox_to_anchor=(1.0, 0.5))\n",
    "plt.show()"
   ]
  },
  {
   "cell_type": "markdown",
   "metadata": {},
   "source": [
    "It seems like many variables have coefficients close to 0. To have more precise information on this, we count the number of variables with regression coefficients greater than 0.01."
   ]
  },
  {
   "cell_type": "code",
   "execution_count": 65,
   "metadata": {},
   "outputs": [
    {
     "data": {
      "text/plain": [
       "15"
      ]
     },
     "execution_count": 65,
     "metadata": {},
     "output_type": "execute_result"
    }
   ],
   "source": [
    "np.sum(list(map(lambda x : x > 0.01, coefs)))"
   ]
  },
  {
   "cell_type": "markdown",
   "metadata": {},
   "source": [
    "That's 15 out of the 39 regressors (including the intercept), indicating that the bias term is reasonably sparse and we may expect our joint estimator to improve the predictive performance."
   ]
  },
  {
   "cell_type": "markdown",
   "metadata": {},
   "source": [
    "### Splitting data into training, validation and test sets\n",
    "Now we split the data set, first roughly 50/50 into a training/estimation set and a test set. Since this is an RCT, we will make this split balanced on treatment status. Hence for the 25 treatment/control health facilities, we will select 13 to be in the training/estimation set and 12 to be in the test set.\n",
    "\n",
    "Then, for the estimation set, we will further split roughly 70/30 into a training set and a validation set for the joint estimator, as we will use a validation set approach to choose the tuning parameter for the regularized regression. For the 12 health facilities in the estimation set of the treatment/control arm, we will select 7 to be in the training set and 4 to be in the validation set.\n",
    "\n",
    "We end up with the following 3 sets:\n",
    "- Training set: 9 treatment and 9 control health facilities\n",
    "- Validation set: 4 treatment and 4 control health facilities\n",
    "- Test set: 12 treatment and 12 control health facilities"
   ]
  },
  {
   "cell_type": "code",
   "execution_count": 66,
   "metadata": {},
   "outputs": [],
   "source": [
    "# Do this separately for treatment and control groups\n",
    "X_est_ls = []\n",
    "X_train_ls = []\n",
    "X_val_ls = []\n",
    "X_test_ls = []\n",
    "Y_est_ls = []\n",
    "Y_train_ls = []\n",
    "Y_val_ls = []\n",
    "Y_test_ls = []\n",
    "\n",
    "for i in range(2):\n",
    "    # Control or treatment gruop\n",
    "    group = df[df['treatment'] == i]\n",
    "    features_gr = group.loc[:, feature_names]\n",
    "    outcomes_gr = group.loc[:, ['u5mort_end_norm' , 'avg_visits_mo_end_norm']]\n",
    "    # First split into estimation (13) and test (12) sets\n",
    "    X_est, X_test, Y_est, Y_test = \\\n",
    "        train_test_split(features_gr, outcomes_gr, test_size = 12, random_state = 1)\n",
    "    # Then split estimation set (13) into training (9) and validation (4) sets\n",
    "    X_train, X_val, Y_train, Y_val = \\\n",
    "        train_test_split(X_est, Y_est, test_size =4, random_state = 1)\n",
    "        \n",
    "    X_est_ls.append(X_est)\n",
    "    X_train_ls.append(X_train)\n",
    "    X_val_ls.append(X_val)\n",
    "    X_test_ls.append(X_test)\n",
    "    Y_est_ls.append(Y_est)\n",
    "    Y_train_ls.append(Y_train)\n",
    "    Y_val_ls.append(Y_val)\n",
    "    Y_test_ls.append(Y_test)  \n",
    "\n",
    "# Then concatenate\n",
    "X_est = pd.concat(X_est_ls)\n",
    "X_train = pd.concat(X_train_ls)\n",
    "X_val = pd.concat(X_val_ls)\n",
    "X_test = pd.concat(X_test_ls)\n",
    "Y_est = pd.concat(Y_est_ls)\n",
    "Y_train = pd.concat(Y_train_ls)\n",
    "Y_val = pd.concat(Y_val_ls)\n",
    "Y_test = pd.concat(Y_test_ls)"
   ]
  },
  {
   "cell_type": "markdown",
   "metadata": {},
   "source": [
    "Then we convert all variables into Numpy arrays. (This is only strictly necessary for those involved in the convex optimizaton problem, but we do this for all just to be safe.) We will also rename some of them into the \"gold\"/\"proxy\" terminology for clarity."
   ]
  },
  {
   "cell_type": "code",
   "execution_count": 67,
   "metadata": {},
   "outputs": [],
   "source": [
    "X_gold = np.array(X_est)\n",
    "Y_gold = np.array(Y_est['u5mort_end_norm'])    # gold outcome only\n",
    "X_proxy = np.array(X_est)\n",
    "Y_proxy = np.array(Y_est['avg_visits_mo_end_norm'])    # proxy outcome only\n",
    "X_train = np.array(X_train)\n",
    "Y_train = np.array(Y_train['u5mort_end_norm'])    # gold outcome only\n",
    "X_val = np.array(X_val)\n",
    "Y_val = np.array(Y_val['u5mort_end_norm'])    # gold outcome only\n",
    "X_test = np.array(X_test)\n",
    "Y_test = np.array(Y_test['u5mort_end_norm'])    # gold outcome only"
   ]
  },
  {
   "cell_type": "markdown",
   "metadata": {},
   "source": [
    "## V. Estimation\n",
    "We present three estimators:\n",
    "- Gold: linear regression of features on the \"gold\" outcome (under-five mortality rate)\n",
    "- Proxy: linear regression of features on the proxy outcome (number of visits to health facilities)\n",
    "- Joint: an estimator that combines both types of data\n",
    "\n",
    "For each estimator we will calculate the mean squared error on the test set which we will use to evaluate their performance.\n",
    "\n",
    "### Gold estimator"
   ]
  },
  {
   "cell_type": "code",
   "execution_count": 68,
   "metadata": {},
   "outputs": [],
   "source": [
    "model_gold = LinearRegression()\n",
    "model_gold.fit(X_gold, Y_gold)\n",
    "Y_gold_pred = model_gold.predict(X_test)\n",
    "mse_gold = metrics.mean_squared_error(Y_test, Y_gold_pred)"
   ]
  },
  {
   "cell_type": "markdown",
   "metadata": {},
   "source": [
    "### Proxy estimator"
   ]
  },
  {
   "cell_type": "code",
   "execution_count": 69,
   "metadata": {},
   "outputs": [],
   "source": [
    "model_proxy = LinearRegression()    \n",
    "model_proxy.fit(X_proxy, Y_proxy)\n",
    "Y_proxy_pred = model_proxy.predict(X_test)\n",
    "mse_proxy = metrics.mean_squared_error(Y_test, Y_proxy_pred)"
   ]
  },
  {
   "cell_type": "markdown",
   "metadata": {},
   "source": [
    "We will save the estimate value from the proxy estimator which will be used in constructing the joint estimator."
   ]
  },
  {
   "cell_type": "code",
   "execution_count": 70,
   "metadata": {},
   "outputs": [],
   "source": [
    "b_proxy_hat = np.append(model_proxy.coef_, np.array(model_proxy.intercept_))    # includes intercept"
   ]
  },
  {
   "cell_type": "markdown",
   "metadata": {},
   "source": [
    "### Joint estimator\n",
    "The joint estimator is a two-step estimator:\n",
    "\n",
    "- Step 1:\n",
    "$$\\hat{\\beta}_{proxy}=\\mathrm{\arg}\\underset{\\beta}{\\min}\\left\\{ \\frac{1}{n_{proxy}}\\Vert Y_{proxy}-\\boldsymbol{\\mathbf{X}}_{proxy}\\beta\\Vert_{2}^{2}\\right\\}$$\n",
    "\n",
    "- Step 2:\n",
    "$$\\hat{\\beta}_{joint}(\\lambda)=\\mathrm{\arg}\\underset{\\beta}{\\min}\\left\\{ \\frac{1}{n_{gold}}\\Vert Y_{gold}-\\boldsymbol{\\mathbf{X}}_{gold}\\beta\\Vert_{2}^{2}+\\lambda\\Vert\\beta-\\hat{\\beta}_{proxy}\\Vert_{1}\\right\\}$$\n",
    "\n",
    "In the first step, we run a linear regression using the proxy data. In the second step, we minimize an objective function similar to that of LASSO, except for the L1 regularization term: instead of requiring the estimate $\\beta$ to be sparse, we require the difference between $\\beta$ and the proxy estimate $\\hat{\\beta}_{proxy}$ to be sparse. This relates to the assumption that the bias term between the gold and proxy outcomes to be sparse. $\\lambda$ will be selected using a validation set approach.\n",
    "\n",
    "There are actually a few different ways to implement this estimator in Bastani (2019). For simplicity, we are going to follow this two-step procedure. Since both steps are convex in $\\beta$, there are no local minima, and we can find the global minimum through standard techniques such as stochastic gradient descent. We will use the \"CVXPY\" package to solve the convex optimization problem."
   ]
  },
  {
   "cell_type": "markdown",
   "metadata": {},
   "source": [
    "Before we start, we write some functions that will be helpful.\n",
    "\n",
    "The first function takes a design matrix without the constant term and adds a column of ones. This will then be plugged in the objective function of the convex optimization problem."
   ]
  },
  {
   "cell_type": "code",
   "execution_count": 71,
   "metadata": {},
   "outputs": [],
   "source": [
    "def xaddone(X, n):\n",
    "    '''\n",
    "    Adds a column of ones for intercept estimation to a design matrix.\n",
    "    Useful for when writing your own objective function for estimation.\n",
    "    X = design matrix (numpy array)\n",
    "    n = number of observations in X\n",
    "    '''\n",
    "    return np.append(X, np.ones((n, 1)), axis = 1)"
   ]
  },
  {
   "cell_type": "markdown",
   "metadata": {},
   "source": [
    "The second function takes as inputs the proxy estimate $b$, training data $X\\_train$ and $Y\\_train$, and parameter $\\lambda$, and obtains the joint estimate using convex optimization. It then makes predictions on test or validation data $X\\_tv$ and $Y\\_tv$ and calculates the mean squared error."
   ]
  },
  {
   "cell_type": "code",
   "execution_count": 72,
   "metadata": {},
   "outputs": [],
   "source": [
    "def jointest(b, X_train, Y_train, X_tv, Y_tv, lambd):\n",
    "    '''\n",
    "    Obtains b_joint from convex optimization using the OLS objective \n",
    "    function and penalt term (LASSO-like but replaces\n",
    "    0 with proxy estimate \"b\" inside the L1-norm).\n",
    "    Also outputs predicted value on test/validation set and MSE.\n",
    "    \n",
    "    b = proxy estimate to be used in model\n",
    "    X_train, Y_train = data to estimate model on\n",
    "    X_tv, Y_tv = data in test/validation set\n",
    "    (Y being gold data in both cases)\n",
    "    l = lambda on penalty term\n",
    "    \n",
    "    Outputs joint estimate b_joint, predicted Y value Y_pred on test/val set,\n",
    "    and MSE mse_tv.\n",
    "    '''\n",
    "\n",
    "    # Obtain b_joint from minimization (convex optimization) problem  \n",
    "    b_joint = cp.Variable(b.shape[0])\n",
    "    penalty = lambd*cp.norm(b_joint - b, 1)\n",
    "    n_train = X_train.shape[0]    # number of obs in X_train        \n",
    "    X_train_1 = xaddone(X_train, n_train)    # adding intercept\n",
    "    mse = cp.sum_squares(Y_train - X_train_1 @ b_joint)/n_train\n",
    "    obj = cp.Minimize(mse + penalty)\n",
    "    cp.Problem(obj).solve()\n",
    "    \n",
    "    # Predict Ys in test/validation set using estimated b_joint        \n",
    "    n_tv = X_tv.shape[0]\n",
    "    X_tv_1 = xaddone(X_tv, n_tv)\n",
    "    Y_pred = np.matmul(X_tv_1, b_joint.value)\n",
    "\n",
    "    # MSE on test/validation set\n",
    "    mse_tv = np.array((Y_pred - Y_tv)**2).mean()     \n",
    "    \n",
    "    return (b_joint, Y_pred, mse_tv)"
   ]
  },
  {
   "cell_type": "markdown",
   "metadata": {},
   "source": [
    "We use the validation set approach to find the best $\\lambda$ value."
   ]
  },
  {
   "cell_type": "code",
   "execution_count": 73,
   "metadata": {},
   "outputs": [],
   "source": [
    "# Grid search for best lambda\n",
    "grid = np.logspace(-4, 3, 8)\n",
    "mse_val = []\n",
    "for x in grid:\n",
    "    mse_x = jointest(b_proxy_hat, X_train, Y_train, X_val, Y_val, x)[-1]\n",
    "    mse_val.append(mse_x)\n",
    "    \n",
    "lambd = grid[np.argmin(mse_val)]"
   ]
  },
  {
   "cell_type": "markdown",
   "metadata": {},
   "source": [
    "Now we plug in the best $\\lambda$ value we found to obtain the joint estimator on the estimation set (i.e. training and validation data combined), and then get the mean squared error on the test set."
   ]
  },
  {
   "cell_type": "code",
   "execution_count": 74,
   "metadata": {},
   "outputs": [],
   "source": [
    "joint_on_gold = jointest(b_proxy_hat, X_gold, Y_gold, X_test, Y_test, lambd)\n",
    "mse_joint = joint_on_gold[-1]"
   ]
  },
  {
   "cell_type": "markdown",
   "metadata": {},
   "source": [
    "Resulting MSE of the gold, proxy, and joint estimators:"
   ]
  },
  {
   "cell_type": "code",
   "execution_count": 75,
   "metadata": {},
   "outputs": [
    {
     "name": "stdout",
     "output_type": "stream",
     "text": [
      "MSE of gold estimator: 12.630964251502698\n",
      "MSE of proxy estimator: 2.2080340049494924\n",
      "MSE of joint estimator: 2.3577528410348836\n"
     ]
    }
   ],
   "source": [
    "print(\"MSE of gold estimator:\", mse_gold)\n",
    "print(\"MSE of proxy estimator:\", mse_proxy)\n",
    "print(\"MSE of joint estimator:\", mse_joint)"
   ]
  },
  {
   "cell_type": "markdown",
   "metadata": {},
   "source": [
    "We see that the joint estimator greatly improves upon the gold estimator. However, the proxy estimator does slightly better than the joint estimator in this case. This is probably due to the gold variable (mortality rate) being too noisy relative to the proxy.\n",
    "\n",
    "Next, we plot the MSE values of the three estimators."
   ]
  },
  {
   "cell_type": "code",
   "execution_count": 77,
   "metadata": {},
   "outputs": [
    {
     "data": {
      "image/png": "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\n",
      "text/plain": [
       "<Figure size 432x288 with 1 Axes>"
      ]
     },
     "metadata": {
      "needs_background": "light"
     },
     "output_type": "display_data"
    }
   ],
   "source": [
    "mse_df = pd.DataFrame([mse_gold, mse_proxy, mse_joint],\\\n",
    "    index = 'Gold Proxy Joint'.split(), columns = [''])\n",
    "mse_df.plot(kind = 'bar', color = '#0072B2', rot = 0, legend = False)\n",
    "plt.xlabel('')\n",
    "plt.ylabel('Mean Squared Test Error')\n",
    "plt.title('Predictive performance of different estimators')\n",
    "plt.show()"
   ]
  },
  {
   "cell_type": "markdown",
   "metadata": {},
   "source": [
    "Note that this is a preliminary demonstration, and we plan to potentially apply the technique to data sets from other global health RCTs (ideally with more observations)."
   ]
  }
 ],
 "metadata": {
  "kernelspec": {
   "display_name": "Python 3",
   "language": "python",
   "name": "python3"
  },
  "language_info": {
   "codemirror_mode": {
    "name": "ipython",
    "version": 3
   },
   "file_extension": ".py",
   "mimetype": "text/x-python",
   "name": "python",
   "nbconvert_exporter": "python",
   "pygments_lexer": "ipython3",
   "version": "3.7.6"
  }
 },
 "nbformat": 4,
 "nbformat_minor": 4
}
